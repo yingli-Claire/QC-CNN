{
 "cells": [
  {
   "cell_type": "code",
   "execution_count": null,
   "metadata": {},
   "outputs": [],
   "source": [
    "import torch\n",
    "import torch.nn as nn\n",
    "from torch.utils.data import Subset\n",
    "from sklearn.model_selection import train_test_split\n",
    "from app.load_data import MyCSVDatasetReader as CSVDataset\n",
    "#from models.classical import Net\n",
    "from models.single_encoding import Net\n",
    "#from models.multi_encoding import Net\n",
    "#from models.hybrid_layer import Net\n",
    "#from models.inception import Net\n",
    "#from models.multi_noisy import Net\n",
    "from app.train import train_network\n",
    "\n",
    "# load the dataset\n",
    "dataset = CSVDataset('./datasets/mnist_179_1200.csv')\n",
    "# output location/file names\n",
    "# outdir = 'results_255_tr_mnist358'\n",
    "# file_prefix = 'mnist_358'\n",
    "\n",
    "\n",
    "# load the device\n",
    "device = torch.device('cpu')\n",
    "\n",
    "# define model\n",
    "net = Net()\n",
    "# net.to(device)\n",
    "criterion = nn.CrossEntropyLoss() # loss function\n",
    "optimizer = torch.optim.Adagrad(net.parameters(), lr = 0.5) # optimizer\n",
    "\n",
    "epochs = 10\n",
    "bs = 30\n",
    "\n",
    "train_id, val_id = train_test_split(list(range(len(dataset))), test_size = 0.2, random_state = 0)\n",
    "train_set = Subset(dataset, train_id)\n",
    "val_set = Subset(dataset, val_id)\n",
    "\n",
    "\n",
    "train_network(net = net, train_set = train_set, val_set = val_set, device = device, \n",
    "epochs = epochs, bs = bs, optimizer = optimizer, criterion = criterion)  # outdir = outdir, file_prefix = file_prefix)\n"
   ]
  },
  {
   "cell_type": "code",
   "execution_count": null,
   "metadata": {},
   "outputs": [],
   "source": [
    "import torch\n",
    "import torch.nn as nn\n",
    "from torch.utils.data import Subset\n",
    "from sklearn.model_selection import train_test_split\n",
    "from app.load_data import MyCSVDatasetReader as CSVDataset\n",
    "from models.single_encoding import Net\n",
    "from app.train import train_network"
   ]
  },
  {
   "cell_type": "code",
   "execution_count": null,
   "metadata": {},
   "outputs": [],
   "source": []
  },
  {
   "cell_type": "code",
   "execution_count": null,
   "metadata": {},
   "outputs": [],
   "source": []
  },
  {
   "cell_type": "code",
   "execution_count": null,
   "metadata": {},
   "outputs": [],
   "source": []
  },
  {
   "cell_type": "code",
   "execution_count": null,
   "metadata": {},
   "outputs": [],
   "source": []
  },
  {
   "cell_type": "code",
   "execution_count": null,
   "metadata": {},
   "outputs": [],
   "source": []
  },
  {
   "cell_type": "code",
   "execution_count": null,
   "metadata": {},
   "outputs": [],
   "source": []
  },
  {
   "cell_type": "code",
   "execution_count": null,
   "metadata": {},
   "outputs": [],
   "source": []
  }
 ],
 "metadata": {
  "kernelspec": {
   "display_name": "pytorch",
   "language": "python",
   "name": "python3"
  },
  "language_info": {
   "name": "python",
   "version": "3.10.13"
  }
 },
 "nbformat": 4,
 "nbformat_minor": 2
}
