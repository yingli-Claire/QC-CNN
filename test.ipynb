{
 "cells": [
  {
   "cell_type": "code",
   "execution_count": 1,
   "metadata": {},
   "outputs": [],
   "source": [
    "import torch\n",
    "from app.load_data import MyCSVDatasetReader as CSVDataset\n",
    "import matplotlib.pyplot as plt\n",
    "from models.classical import Net\n",
    "import torch.nn as nn\n",
    "from sklearn.model_selection import train_test_split\n",
    "from torch.utils.data import Subset\n",
    "from app.train import train_network"
   ]
  },
  {
   "cell_type": "code",
   "execution_count": 2,
   "metadata": {},
   "outputs": [
    {
     "name": "stdout",
     "output_type": "stream",
     "text": [
      "./datasets/mnist_179_1200.csv\n"
     ]
    }
   ],
   "source": [
    "dataset = CSVDataset('./datasets/mnist_179_1200.csv')"
   ]
  },
  {
   "cell_type": "code",
   "execution_count": 3,
   "metadata": {},
   "outputs": [
    {
     "name": "stdout",
     "output_type": "stream",
     "text": [
      "当前设备： cpu\n"
     ]
    }
   ],
   "source": [
    "if torch.cuda.is_available():\n",
    "    device = torch.device(\"cuda\") # 使用第一个可用的GPU\n",
    "else:\n",
    "    device = torch.device(\"cpu\") # 如果没有GPU可用，则使用CPU\n",
    "print(\"当前设备：\", device)"
   ]
  },
  {
   "cell_type": "code",
   "execution_count": 4,
   "metadata": {},
   "outputs": [],
   "source": [
    "net = Net()\n",
    "criterion = nn.CrossEntropyLoss() # loss function\n",
    "optimizer = torch.optim.Adagrad(net.parameters(), lr = 0.5) "
   ]
  },
  {
   "cell_type": "code",
   "execution_count": 5,
   "metadata": {},
   "outputs": [],
   "source": [
    "train_id, val_id = train_test_split(list(range(len(dataset))), test_size = 0.2, random_state = 0)\n",
    "train_set = Subset(dataset, train_id)\n",
    "val_set = Subset(dataset, val_id)"
   ]
  },
  {
   "cell_type": "code",
   "execution_count": 6,
   "metadata": {},
   "outputs": [
    {
     "name": "stdout",
     "output_type": "stream",
     "text": [
      "Time:0.0800, Epoch:0, TR_Loss: 0.1905, TR_Acc: 0.3631, VAL_Loss: 1.1139, VAL_Acc: 0.3000\n",
      "Time:0.0225, Epoch:1, TR_Loss: 0.1815, TR_Acc: 0.3567, VAL_Loss: 1.1261, VAL_Acc: 0.3000\n",
      "Time:0.0234, Epoch:2, TR_Loss: 0.1833, TR_Acc: 0.3567, VAL_Loss: 1.0956, VAL_Acc: 0.3500\n",
      "Time:0.0246, Epoch:3, TR_Loss: 0.1815, TR_Acc: 0.2866, VAL_Loss: 1.1385, VAL_Acc: 0.3000\n"
     ]
    },
    {
     "name": "stdout",
     "output_type": "stream",
     "text": [
      "Time:0.0226, Epoch:4, TR_Loss: 0.1860, TR_Acc: 0.3567, VAL_Loss: 1.1239, VAL_Acc: 0.3500\n",
      "Time:0.0234, Epoch:5, TR_Loss: 0.1869, TR_Acc: 0.3567, VAL_Loss: 1.0936, VAL_Acc: 0.3500\n",
      "Time:0.0254, Epoch:6, TR_Loss: 0.1840, TR_Acc: 0.3439, VAL_Loss: 1.0689, VAL_Acc: 0.3500\n",
      "Time:0.0223, Epoch:7, TR_Loss: 0.1701, TR_Acc: 0.3631, VAL_Loss: 1.0070, VAL_Acc: 0.5750\n",
      "Time:0.0236, Epoch:8, TR_Loss: 0.1622, TR_Acc: 0.5478, VAL_Loss: 0.9737, VAL_Acc: 0.4750\n",
      "Time:0.0266, Epoch:9, TR_Loss: 0.1388, TR_Acc: 0.4904, VAL_Loss: 0.9342, VAL_Acc: 0.4250\n"
     ]
    }
   ],
   "source": [
    "epochs = 10\n",
    "bs = 30\n",
    "train_network(net = net, train_set = train_set, val_set = val_set, device = device, \n",
    "epochs = epochs, bs = bs, optimizer = optimizer, criterion = criterion)"
   ]
  },
  {
   "cell_type": "code",
   "execution_count": 8,
   "metadata": {},
   "outputs": [
    {
     "data": {
      "text/plain": [
       "6"
      ]
     },
     "execution_count": 8,
     "metadata": {},
     "output_type": "execute_result"
    }
   ],
   "source": [
    "len(net.state_dict())"
   ]
  },
  {
   "cell_type": "code",
   "execution_count": 9,
   "metadata": {},
   "outputs": [
    {
     "data": {
      "text/plain": [
       "OrderedDict([('conv.weight',\n",
       "              tensor([[[[-0.5037, -0.2318],\n",
       "                        [-0.9115, -0.8680]]],\n",
       "              \n",
       "              \n",
       "                      [[[-1.1911, -0.8531],\n",
       "                        [-0.9963,  0.4820]]],\n",
       "              \n",
       "              \n",
       "                      [[[-0.5444, -0.3677],\n",
       "                        [-0.1511, -0.5983]]],\n",
       "              \n",
       "              \n",
       "                      [[[-0.4777, -0.3311],\n",
       "                        [-0.2061,  0.0185]]]])),\n",
       "             ('conv.bias', tensor([-0.3023,  0.2524, -0.8390, -0.2177])),\n",
       "             ('fc1.weight',\n",
       "              tensor([[-4.7406e-01, -4.4069e-01, -5.1470e-01,  ..., -1.6310e-02,\n",
       "                       -5.0189e-04,  9.1138e-03],\n",
       "                      [-5.5872e-02, -3.7438e-02,  5.7678e-02,  ...,  4.0154e-02,\n",
       "                       -4.0585e-02, -1.1194e-02],\n",
       "                      [ 5.6065e-01,  5.0295e-01,  4.4948e-01,  ..., -3.2611e-02,\n",
       "                        3.7422e-02, -3.3042e-02],\n",
       "                      [ 4.6482e-01,  4.9375e-01,  4.9313e-01,  ..., -3.0531e-02,\n",
       "                        5.6943e-02, -5.0120e-02],\n",
       "                      [-4.9980e-01, -4.3579e-01, -4.2897e-01,  ..., -2.2973e-02,\n",
       "                        2.5634e-04, -1.3734e-02],\n",
       "                      [ 4.9393e-01,  4.4429e-01,  4.9956e-01,  ...,  5.8507e-02,\n",
       "                       -1.9813e-03, -4.7992e-02]])),\n",
       "             ('fc1.bias',\n",
       "              tensor([-0.4527, -0.0265,  0.0373,  0.4431, -0.4696, -0.3619])),\n",
       "             ('fc2.weight',\n",
       "              tensor([[-0.1204, -0.3715, -0.2700,  0.9187, -0.7603,  1.3835],\n",
       "                      [-0.5361,  0.2292, -0.1817, -0.3780, -0.3334, -0.3552],\n",
       "                      [ 0.1193, -0.4024,  0.1758,  0.2163,  0.2464,  0.1052]])),\n",
       "             ('fc2.bias', tensor([0.1089, 0.6459, 0.7055]))])"
      ]
     },
     "execution_count": 9,
     "metadata": {},
     "output_type": "execute_result"
    }
   ],
   "source": [
    "net.state_dict()"
   ]
  },
  {
   "cell_type": "code",
   "execution_count": 10,
   "metadata": {},
   "outputs": [
    {
     "ename": "KeyError",
     "evalue": "0",
     "output_type": "error",
     "traceback": [
      "\u001b[0;31m---------------------------------------------------------------------------\u001b[0m",
      "\u001b[0;31mKeyError\u001b[0m                                  Traceback (most recent call last)",
      "Cell \u001b[0;32mIn[10], line 1\u001b[0m\n\u001b[0;32m----> 1\u001b[0m \u001b[43mnet\u001b[49m\u001b[38;5;241;43m.\u001b[39;49m\u001b[43mstate_dict\u001b[49m\u001b[43m(\u001b[49m\u001b[43m)\u001b[49m\u001b[43m[\u001b[49m\u001b[38;5;241;43m0\u001b[39;49m\u001b[43m]\u001b[49m\n",
      "\u001b[0;31mKeyError\u001b[0m: 0"
     ]
    }
   ],
   "source": [
    "net.state_dict()[0]"
   ]
  },
  {
   "cell_type": "code",
   "execution_count": null,
   "metadata": {},
   "outputs": [],
   "source": []
  }
 ],
 "metadata": {
  "kernelspec": {
   "display_name": "pytorch",
   "language": "python",
   "name": "python3"
  },
  "language_info": {
   "codemirror_mode": {
    "name": "ipython",
    "version": 3
   },
   "file_extension": ".py",
   "mimetype": "text/x-python",
   "name": "python",
   "nbconvert_exporter": "python",
   "pygments_lexer": "ipython3",
   "version": "3.10.13"
  }
 },
 "nbformat": 4,
 "nbformat_minor": 2
}
