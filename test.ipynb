{
 "cells": [
  {
   "cell_type": "code",
   "execution_count": 1,
   "metadata": {},
   "outputs": [],
   "source": [
    "import torch\n",
    "from app.load_data import MyCSVDatasetReader as CSVDataset\n",
    "import matplotlib.pyplot as plt\n",
    "from models.classical import Net\n",
    "import torch.nn as nn\n",
    "from sklearn.model_selection import train_test_split\n",
    "from torch.utils.data import Subset\n",
    "from app.train import train_network"
   ]
  },
  {
   "cell_type": "code",
   "execution_count": 2,
   "metadata": {},
   "outputs": [
    {
     "name": "stdout",
     "output_type": "stream",
     "text": [
      "./datasets/mnist_179_1200.csv\n"
     ]
    }
   ],
   "source": [
    "dataset = CSVDataset('./datasets/mnist_179_1200.csv')"
   ]
  },
  {
   "cell_type": "code",
   "execution_count": 3,
   "metadata": {},
   "outputs": [
    {
     "name": "stdout",
     "output_type": "stream",
     "text": [
      "当前设备： cpu\n"
     ]
    }
   ],
   "source": [
    "if torch.cuda.is_available():\n",
    "    device = torch.device(\"cuda\") # 使用第一个可用的GPU\n",
    "else:\n",
    "    device = torch.device(\"cpu\") # 如果没有GPU可用，则使用CPU\n",
    "print(\"当前设备：\", device)"
   ]
  },
  {
   "cell_type": "code",
   "execution_count": 4,
   "metadata": {},
   "outputs": [],
   "source": [
    "net = Net()\n",
    "criterion = nn.CrossEntropyLoss() # loss function\n",
    "optimizer = torch.optim.Adagrad(net.parameters(), lr = 0.5) "
   ]
  },
  {
   "cell_type": "code",
   "execution_count": 5,
   "metadata": {},
   "outputs": [],
   "source": [
    "train_id, val_id = train_test_split(list(range(len(dataset))), test_size = 0.2, random_state = 0)\n",
    "train_set = Subset(dataset, train_id)\n",
    "val_set = Subset(dataset, val_id)"
   ]
  },
  {
   "cell_type": "code",
   "execution_count": 6,
   "metadata": {},
   "outputs": [
    {
     "name": "stdout",
     "output_type": "stream",
     "text": [
      "Time:0.0312, Epoch:0, TR_Loss: 0.1905, TR_Acc: 0.3631, VAL_Loss: 1.1139, VAL_Acc: 0.3000\n",
      "Time:0.0225, Epoch:1, TR_Loss: 0.1815, TR_Acc: 0.3567, VAL_Loss: 1.1261, VAL_Acc: 0.3000\n",
      "Time:0.0227, Epoch:2, TR_Loss: 0.1833, TR_Acc: 0.3567, VAL_Loss: 1.0956, VAL_Acc: 0.3500\n",
      "Time:0.0220, Epoch:3, TR_Loss: 0.1815, TR_Acc: 0.2866, VAL_Loss: 1.1385, VAL_Acc: 0.3000\n",
      "Time:0.0220, Epoch:4, TR_Loss: 0.1860, TR_Acc: 0.3567, VAL_Loss: 1.1239, VAL_Acc: 0.3500\n",
      "Time:0.0232, Epoch:5, TR_Loss: 0.1869, TR_Acc: 0.3567, VAL_Loss: 1.0936, VAL_Acc: 0.3500\n"
     ]
    },
    {
     "name": "stdout",
     "output_type": "stream",
     "text": [
      "Time:0.0268, Epoch:6, TR_Loss: 0.1840, TR_Acc: 0.3439, VAL_Loss: 1.0689, VAL_Acc: 0.3500\n",
      "Time:0.0236, Epoch:7, TR_Loss: 0.1701, TR_Acc: 0.3631, VAL_Loss: 1.0070, VAL_Acc: 0.5750\n",
      "Time:0.0261, Epoch:8, TR_Loss: 0.1622, TR_Acc: 0.5478, VAL_Loss: 0.9737, VAL_Acc: 0.4750\n",
      "Time:0.0254, Epoch:9, TR_Loss: 0.1388, TR_Acc: 0.4904, VAL_Loss: 0.9342, VAL_Acc: 0.4250\n"
     ]
    }
   ],
   "source": [
    "epochs = 10\n",
    "bs = 30\n",
    "train_network(net = net, train_set = train_set, val_set = val_set, device = device, \n",
    "epochs = epochs, bs = bs, optimizer = optimizer, criterion = criterion)"
   ]
  },
  {
   "cell_type": "code",
   "execution_count": null,
   "metadata": {},
   "outputs": [],
   "source": []
  }
 ],
 "metadata": {
  "kernelspec": {
   "display_name": "pytorch",
   "language": "python",
   "name": "python3"
  },
  "language_info": {
   "codemirror_mode": {
    "name": "ipython",
    "version": 3
   },
   "file_extension": ".py",
   "mimetype": "text/x-python",
   "name": "python",
   "nbconvert_exporter": "python",
   "pygments_lexer": "ipython3",
   "version": "3.10.13"
  }
 },
 "nbformat": 4,
 "nbformat_minor": 2
}
